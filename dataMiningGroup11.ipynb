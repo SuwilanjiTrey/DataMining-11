{
  "nbformat": 4,
  "nbformat_minor": 0,
  "metadata": {
    "colab": {
      "provenance": [],
      "authorship_tag": "ABX9TyM+MQT9B4lWqvMVQ/Np1q9y",
      "include_colab_link": true
    },
    "kernelspec": {
      "name": "python3",
      "display_name": "Python 3"
    },
    "language_info": {
      "name": "python"
    }
  },
  "cells": [
    {
      "cell_type": "markdown",
      "metadata": {
        "id": "view-in-github",
        "colab_type": "text"
      },
      "source": [
        "<a href=\"https://colab.research.google.com/github/SuwilanjiTrey/DataMining-11/blob/main/dataMiningGroup11.ipynb\" target=\"_parent\"><img src=\"https://colab.research.google.com/assets/colab-badge.svg\" alt=\"Open In Colab\"/></a>"
      ]
    },
    {
      "cell_type": "markdown",
      "source": [
        "#1. Business Understanding"
      ],
      "metadata": {
        "id": "bDLpdjFbTW_i"
      }
    },
    {
      "cell_type": "markdown",
      "source": [
        "##1.1 Problem Statement"
      ],
      "metadata": {
        "id": "GZXQCIoKTfER"
      }
    },
    {
      "cell_type": "markdown",
      "source": [
        "###The Zambian judiciary produces thousands of judgements every year, often accompanied by short descriptive summaries. These descriptions provide valuable insights into the nature of each case, but they are rarely classified systematically. Manual classification is time-consuming, inconsistent, and prone to human error. This project aims to automate the classification of judgement descriptions into their respective legal categories, improving accessibility and efficiency in legal information retrieval."
      ],
      "metadata": {
        "id": "ilthdzLDURZd"
      }
    }
  ]
}