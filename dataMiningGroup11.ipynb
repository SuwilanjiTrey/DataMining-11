{
  "nbformat": 4,
  "nbformat_minor": 0,
  "metadata": {
    "colab": {
      "provenance": [],
      "authorship_tag": "ABX9TyOA+Nlj8VesaZahCy/OBDo1",
      "include_colab_link": true
    },
    "kernelspec": {
      "name": "python3",
      "display_name": "Python 3"
    },
    "language_info": {
      "name": "python"
    }
  },
  "cells": [
    {
      "cell_type": "markdown",
      "metadata": {
        "id": "view-in-github",
        "colab_type": "text"
      },
      "source": [
        "<a href=\"https://colab.research.google.com/github/SuwilanjiTrey/DataMining-11/blob/main/dataMiningGroup11.ipynb\" target=\"_parent\"><img src=\"https://colab.research.google.com/assets/colab-badge.svg\" alt=\"Open In Colab\"/></a>"
      ]
    },
    {
      "cell_type": "markdown",
      "source": [
        "#1. Business Understanding"
      ],
      "metadata": {
        "id": "bDLpdjFbTW_i"
      }
    },
    {
      "cell_type": "markdown",
      "source": [
        "##1.1 Problem Statement"
      ],
      "metadata": {
        "id": "GZXQCIoKTfER"
      }
    },
    {
      "cell_type": "markdown",
      "source": [
        "###The Zambian judiciary produces a large number of legal judgments each year, each accompanied by descriptive information such as the case title, case number, court, judgment date, judges presiding, a brief case summary, and relevant keywords. Currently, classification of judgments by type (e.g., criminal, civil, constitutional, commercial) is often done manually, which is time-consuming, inconsistent, and resource-intensive. This lack of automation makes it difficult for legal practitioners, researchers, and the public to quickly locate relevant cases, reducing the efficiency of legal research and limiting access to timely legal information.\n"
      ],
      "metadata": {
        "id": "ilthdzLDURZd"
      }
    }
  ]
}